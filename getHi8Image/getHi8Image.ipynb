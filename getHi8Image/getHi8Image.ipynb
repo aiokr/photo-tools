{
 "cells": [
  {
   "cell_type": "code",
   "execution_count": null,
   "metadata": {},
   "outputs": [],
   "source": [
    "from http.server import BaseHTTPRequestHandler\n",
    "import requests\n",
    "\n",
    "# 定义卫星图的 URL 地址\n",
    "url_base = 'https://himawari8-dl.nict.go.jp/himawari8/img/D531106/1d/550/'\n",
    "\n",
    "# 获取当前时间并将其格式化为字符串\n",
    "date = datetime.datetime.utcnow().strftime('%Y/%m/%d/')\n",
    "\n",
    "# 获取当前小时数并减去 1，将其格式化为字符串并补零\n",
    "hour = str(int(datetime.datetime.utcnow().strftime('%H')) - 1).zfill(2)\n",
    "\n",
    "# 获取当前分钟数的十位数并补零，将其格式化为字符串\n",
    "minute = str(datetime.datetime.utcnow().strftime('%M'))[0] + '0'\n",
    "\n",
    "# 设置秒数为 00，将其格式化为字符串\n",
    "second = '00'\n",
    "\n",
    "# 定义卫星图文件的扩展名\n",
    "ext = '_0_0.png'\n",
    "\n",
    "# 拼接出完整的卫星图 URL 地址\n",
    "picture_url = url_base + date + hour + minute + second + ext\n",
    "print(picture_url)\n",
    "\n",
    "# 定义一个处理 HTTP 请求的类\n",
    "class handler(BaseHTTPRequestHandler):\n",
    "    # 当接收到 GET 请求时执行的方法\n",
    "    def do_GET(self):\n",
    "        # 发送 HTTP 响应头\n",
    "        self.send_response(200)\n",
    "        self.send_header('Content-type', 'image/png')\n",
    "        self.end_headers()\n",
    "\n",
    "        # 向卫星图 URL 发送 HTTP 请求并获取响应结果\n",
    "        res = requests.get(picture_url)\n",
    "        \n",
    "        # 将获取到的卫星图作为响应内容返回给客户端\n",
    "        self.wfile.write(res.content)\n",
    "\n",
    "# 如果直接运行该文件，则启动 HTTP 服务器并监听 8080 端口\n",
    "if __name__ == '__main__':\n",
    "    from http.server import HTTPServer\n",
    "    server = HTTPServer(('0.0.0.0', 8080), handler)\n",
    "    server.serve_forever()\n"
   ]
  }
 ],
 "metadata": {
  "kernelspec": {
   "display_name": "Python 3",
   "language": "python",
   "name": "python3"
  },
  "language_info": {
   "codemirror_mode": {
    "name": "ipython",
    "version": 3
   },
   "file_extension": ".py",
   "mimetype": "text/x-python",
   "name": "python",
   "nbconvert_exporter": "python",
   "pygments_lexer": "ipython3",
   "version": "3.11.2"
  }
 },
 "nbformat": 4,
 "nbformat_minor": 2
}
